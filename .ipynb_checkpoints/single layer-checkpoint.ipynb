{
 "cells": [
  {
   "cell_type": "code",
   "execution_count": 17,
   "metadata": {},
   "outputs": [],
   "source": [
    "import numpy as np\n",
    "\n",
    "import matplotlib.pyplot as plt\n",
    "params = {'axes.labelsize': 16,\n",
    "          'axes.titlesize': 16}\n",
    "plt.rcParams.update(params)\n",
    "\n",
    "def report_acc(data,label):\n",
    "    train_index = np.random.choice(len(label),int(len(label)/2),replace=False)\n",
    "    test_index = np.setdiff1d(np.arange(len(label)),train_index)\n",
    "\n",
    "    train_data = data[train_index]\n",
    "    train_label = label[train_index]\n",
    "    test_data = data[test_index]\n",
    "    test_label = label[test_index]\n",
    "\n",
    "    train_data = np.reshape(train_data, (len(train_label), -1))\n",
    "    test_data = np.reshape(test_data, (len(test_label),-1))\n",
    "\n",
    "    from sklearn.linear_model import LogisticRegression\n",
    "    from sklearn.metrics import balanced_accuracy_score\n",
    "    from sklearn.metrics import roc_auc_score\n",
    "    clf = LogisticRegression(random_state=0, solver='liblinear',class_weight='balanced')\n",
    "    clf.fit(train_data, train_label)\n",
    "    #print (\" attack accuracy %.2f\" % (clf.score(test_data, test_label) * 100))\n",
    "    acc1 = balanced_accuracy_score(test_label,clf.predict(test_data))\n",
    "    #print (classification_report(test_label,clf.predict(test_feature)))\n",
    "    auc1 = roc_auc_score(test_label,clf.predict(test_data))\n",
    "\n",
    "    from sklearn.ensemble import RandomForestClassifier\n",
    "    clf = RandomForestClassifier(n_estimators=20,max_depth=3, random_state=0,class_weight=\"balanced\")\n",
    "    clf.fit(train_data, train_label)\n",
    "    acc2 = balanced_accuracy_score(test_label,clf.predict(test_data))\n",
    "    auc2 = roc_auc_score(test_label,clf.predict(test_data))\n",
    "    #print (classification_report(test_label,mode.predict(test_feature)))\n",
    "    #print (\"balanced accuracy\",max(acc1,acc2))\n",
    "    #print (\"roc-auc\",max(auc1,auc2))\n",
    "\n",
    "    return max(acc1,acc2),max(auc1,auc2)\n",
    "\n",
    "def report_auc(data,label):\n",
    "    if (len(data.shape)==1):\n",
    "        from sklearn.metrics import roc_auc_score\n",
    "        y_true = label\n",
    "        y_pred = np.squeeze(data)\n",
    "        #print (\"AUC score\", roc_auc_score(-1*y_true, y_pred))\n",
    "        return roc_auc_score(y_true,y_pred)\n",
    "    else:\n",
    "        ### \n",
    "        pass\n",
    "\n",
    "def processing_batch_single_layer(data):\n",
    "    print (data.shape)\n",
    "    num_batches = data.shape[1]\n",
    "    num_instances = data.shape[0]\n",
    "    num_features = data.shape[2]\n",
    "    \n",
    "    ### we have 5 features here: 1. cos 2. |b*n|-|b*n-a| L1 3. |b*n|-|b*n-a| L2 4. |a| L1 5. |a| L2\n",
    "    ### this function is subject to change because we may have other ways to process the information from multiple batches\n",
    "    \n",
    "    generated_features = np.zeros((num_instances,5))\n",
    "    \n",
    "    for i in range(num_instances):\n",
    "        this_instance_data = data[i,:,:]\n",
    "        \n",
    "        generated_features[i,0] = np.amax(this_instance_data[:,0]) \n",
    "        generated_features[i,3] = np.amin(this_instance_data[:,3])\n",
    "        generated_features[i,4] = np.amin(this_instance_data[:,6])\n",
    "        #generated_features[i,1] = np.amax(this_instance_data[:,1]-this_instance_data[:,2])/generated_features[i,3]\n",
    "        #generated_features[i,2] = np.amax(this_instance_data[:,4]-this_instance_data[:,5])/generated_features[i,4]\n",
    "        generated_features[i,1] = np.amax(this_instance_data[:,1]-this_instance_data[:,2])\n",
    "        generated_features[i,2] = np.amax(this_instance_data[:,4]-this_instance_data[:,5])\n",
    "            \n",
    "        generated_features[i,3] = -np.amin(this_instance_data[:,3])\n",
    "        generated_features[i,4] = -np.amin(this_instance_data[:,6])\n",
    "            \n",
    "    return generated_features\n",
    "    "
   ]
  },
  {
   "cell_type": "code",
   "execution_count": 18,
   "metadata": {},
   "outputs": [
    {
     "name": "stdout",
     "output_type": "stream",
     "text": [
      "(3, 400, 20, 7)\n",
      "epoch: 250\n",
      "(400, 20, 7)\n",
      "(400, 5)\n"
     ]
    },
    {
     "data": {
      "image/png": "[encoded data removed]",
      "text/plain": [
       "<Figure size 360x360 with 1 Axes>"
      ]
     },
     "metadata": {
      "needs_background": "light"
     },
     "output_type": "display_data"
    },
    {
     "name": "stdout",
     "output_type": "stream",
     "text": [
      "0.635875\n"
     ]
    },
    {
     "data": {
      "image/png": "[encoded data removed]",
      "text/plain": [
       "<Figure size 360x360 with 1 Axes>"
      ]
     },
     "metadata": {
      "needs_background": "light"
     },
     "output_type": "display_data"
    },
    {
     "name": "stdout",
     "output_type": "stream",
     "text": [
      "0.693725\n"
     ]
    }
   ],
   "source": [
    "#epochs = [50,100,150,200,250,300]\n",
    "epochs=[250]\n",
    "data_size = 2000\n",
    "num_layers = 0\n",
    "\n",
    "for index,epoch in enumerate(epochs):\n",
    "    data_name = './expdata/all_info_non_member_multibatch_singlelayer_0_0.0_0_0.0_0_'+str(epoch)+'_cifar100_'+str(data_size)+'_resnet20'+'.npy'\n",
    "    data = np.load(data_name)\n",
    "    label_name = './expdata/all_label_non_member_multibatch_singlelayer_0_0.0_0_0.0_0_'+str(epoch)+'_cifar100_'+str(data_size)+'_resnet20'+'.npy'\n",
    "    label = np.load(label_name)\n",
    "    \n",
    "    print (data.shape)\n",
    "    print (\"epoch:\",epoch)\n",
    "    \n",
    "    all_grad_minus_feature = []\n",
    "    for user in range(1):\n",
    "        this_user_label = label[user]\n",
    "        this_user_instance_info = processing_batch_single_layer(data[user,:,:,:])\n",
    "        print (this_user_instance_info.shape)\n",
    "        \n",
    "        all_grad_minus_feature=this_user_instance_info[:,1]\n",
    "           \n",
    "        import matplotlib.pyplot as plt\n",
    "        num_bins = 50\n",
    "        fig = plt.figure(figsize=(5,5))\n",
    "        all_grad_minus_feature = np.squeeze(np.array(all_grad_minus_feature))\n",
    "            \n",
    "        membership_label = label[0].astype(np.int64)\n",
    "        member_index = np.arange(len(all_grad_minus_feature))[membership_label == 1]\n",
    "        nonmember_index = np.setdiff1d(np.arange(len(all_grad_minus_feature)),member_index)\n",
    "        this_type_member_data = all_grad_minus_feature[member_index]\n",
    "        this_type_nonmember_data = all_grad_minus_feature[nonmember_index]\n",
    "        counts,bins=np.histogram(this_type_member_data,num_bins)\n",
    "        width = bins[1] - bins[0]\n",
    "        plt.bar(bins[1:],counts,color='red',width=width)\n",
    "        counts,_=np.histogram(this_type_nonmember_data,bins)\n",
    "        plt.bar(bins[1:]+width/3,counts,color='blue',width=width)\n",
    "        plt.legend(['member','non-member'])\n",
    "        plt.show()\n",
    "        print (report_auc(all_grad_minus_feature,label[0]))\n",
    "        \n",
    "        \n",
    "        all_grad_minus_feature=this_user_instance_info[:,3]\n",
    "           \n",
    "        import matplotlib.pyplot as plt\n",
    "        num_bins = 50\n",
    "        fig = plt.figure(figsize=(5,5))\n",
    "        all_grad_minus_feature = np.squeeze(np.array(all_grad_minus_feature))\n",
    "            \n",
    "        membership_label = label[0].astype(np.int64)\n",
    "        member_index = np.arange(len(all_grad_minus_feature))[membership_label == 1]\n",
    "        nonmember_index = np.setdiff1d(np.arange(len(all_grad_minus_feature)),member_index)\n",
    "        this_type_member_data = all_grad_minus_feature[member_index]\n",
    "        this_type_nonmember_data = all_grad_minus_feature[nonmember_index]\n",
    "        counts,bins=np.histogram(this_type_member_data,num_bins)\n",
    "        width = bins[1] - bins[0]\n",
    "        plt.bar(bins[1:],counts,color='red',width=width)\n",
    "        counts,_=np.histogram(this_type_nonmember_data,bins)\n",
    "        plt.bar(bins[1:]+width/3,counts,color='blue',width=width)\n",
    "        plt.legend(['member','non-member'])\n",
    "        plt.show()\n",
    "        print (report_auc(all_grad_minus_feature,label[0]))"
   ]
  }
 ],
 "metadata": {
  "kernelspec": {
   "display_name": "Python [conda env:pytorch] *",
   "language": "python",
   "name": "conda-env-pytorch-py"
  },
  "language_info": {
   "codemirror_mode": {
    "name": "ipython",
    "version": 3
   },
   "file_extension": ".py",
   "mimetype": "text/x-python",
   "name": "python",
   "nbconvert_exporter": "python",
   "pygments_lexer": "ipython3",
   "version": "3.6.8"
  }
 },
 "nbformat": 4,
 "nbformat_minor": 2
}
