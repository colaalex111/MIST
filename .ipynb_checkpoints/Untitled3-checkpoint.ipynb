{
 "cells": [
  {
   "cell_type": "code",
   "execution_count": 1,
   "metadata": {},
   "outputs": [
    {
     "name": "stdout",
     "output_type": "stream",
     "text": [
      "[1 2 3 4 5 6]\n"
     ]
    }
   ],
   "source": [
    "a = [[1,2,3],[4,5,6]]\n",
    "import numpy as np\n",
    "\n",
    "print (np.hstack(a))"
   ]
  },
  {
   "cell_type": "code",
   "execution_count": 2,
   "metadata": {},
   "outputs": [
    {
     "name": "stdout",
     "output_type": "stream",
     "text": [
      "(2, 3, 2)\n",
      "[[[1 2]\n",
      "  [2 3]\n",
      "  [3 4]]\n",
      "\n",
      " [[1 2]\n",
      "  [2 3]\n",
      "  [3 4]]]\n",
      "[[1 2 1 2]\n",
      " [2 3 2 3]\n",
      " [3 4 3 4]]\n"
     ]
    }
   ],
   "source": [
    "b = np.array([[[1,2],[2,3],[3,4]],[[1,2],[2,3],[3,4]]])\n",
    "print (b.shape)\n",
    "print (b)\n",
    "print (np.hstack(b))"
   ]
  },
  {
   "cell_type": "code",
   "execution_count": 5,
   "metadata": {},
   "outputs": [
    {
     "name": "stdout",
     "output_type": "stream",
     "text": [
      "[[[[0.4 0.3 0.2 0.4 0.3 0.2 0.4 0.3 0.2]\n",
      "   [0.4 0.3 0.2 0.4 0.3 0.2 0.4 0.3 0.2]\n",
      "   [0.4 0.3 0.2 0.4 0.3 0.2 0.4 0.3 0.2]]\n",
      "\n",
      "  [[0.4 0.3 0.2 0.4 0.3 0.2 0.4 0.3 0.2]\n",
      "   [0.4 0.3 0.2 0.4 0.3 0.2 0.4 0.3 0.2]\n",
      "   [0.4 0.3 0.2 0.4 0.3 0.2 0.4 0.3 0.2]]\n",
      "\n",
      "  [[0.4 0.3 0.2 0.4 0.3 0.2 0.4 0.3 0.2]\n",
      "   [0.4 0.3 0.2 0.4 0.3 0.2 0.4 0.3 0.2]\n",
      "   [0.4 0.3 0.2 0.4 0.3 0.2 0.4 0.3 0.2]]]\n",
      "\n",
      "\n",
      " [[[0.4 0.3 0.2 0.4 0.3 0.2 0.4 0.3 0.2]\n",
      "   [0.4 0.3 0.2 0.4 0.3 0.2 0.4 0.3 0.2]\n",
      "   [0.4 0.3 0.2 0.4 0.3 0.2 0.4 0.3 0.2]]\n",
      "\n",
      "  [[0.4 0.3 0.2 0.4 0.3 0.2 0.4 0.3 0.2]\n",
      "   [0.4 0.3 0.2 0.4 0.3 0.2 0.4 0.3 0.2]\n",
      "   [0.4 0.3 0.2 0.4 0.3 0.2 0.4 0.3 0.2]]\n",
      "\n",
      "  [[0.4 0.3 0.2 0.4 0.3 0.2 0.4 0.3 0.2]\n",
      "   [0.4 0.3 0.2 0.4 0.3 0.2 0.4 0.3 0.2]\n",
      "   [0.4 0.3 0.2 0.4 0.3 0.2 0.4 0.3 0.2]]]]\n",
      "(2, 3, 3, 9)\n",
      "[0.4 0.4 0.4]\n"
     ]
    }
   ],
   "source": [
    "a = (0.4,0.3,0.2)\n",
    "import numpy as np\n",
    "b = np.tile(np.array(a),(2,3,3,1))\n",
    "\n",
    "print (b)\n",
    "print (b.shape)\n",
    "print (b[0,:,0,0])"
   ]
  },
  {
   "cell_type": "code",
   "execution_count": 2,
   "metadata": {},
   "outputs": [
    {
     "name": "stdout",
     "output_type": "stream",
     "text": [
      "3.4350832650858765 0.7652803452665384\n"
     ]
    }
   ],
   "source": [
    "from scipy.spatial import ConvexHull, convex_hull_plot_2d\n",
    "import numpy as np\n",
    "\n",
    "rng = np.random.default_rng()\n",
    "points = rng.random((30, 29)) \n",
    "hull = ConvexHull(points)\n",
    "print (hull.area,hull.volume)\n",
    "\n",
    "\n",
    "points = rng.random((5, 30)) \n",
    "hull = ConvexHull(points)\n",
    "print (hull.area,hull.volume)"
   ]
  },
  {
   "cell_type": "code",
   "execution_count": null,
   "metadata": {},
   "outputs": [],
   "source": []
  }
 ],
 "metadata": {
  "kernelspec": {
   "display_name": "Python 3",
   "language": "python",
   "name": "python3"
  },
  "language_info": {
   "codemirror_mode": {
    "name": "ipython",
    "version": 3
   },
   "file_extension": ".py",
   "mimetype": "text/x-python",
   "name": "python",
   "nbconvert_exporter": "python",
   "pygments_lexer": "ipython3",
   "version": "3.6.8"
  }
 },
 "nbformat": 4,
 "nbformat_minor": 2
}
